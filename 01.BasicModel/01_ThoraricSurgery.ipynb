{
 "metadata": {
  "language_info": {
   "codemirror_mode": {
    "name": "ipython",
    "version": 3
   },
   "file_extension": ".py",
   "mimetype": "text/x-python",
   "name": "python",
   "nbconvert_exporter": "python",
   "pygments_lexer": "ipython3",
   "version": "3.8.5"
  },
  "orig_nbformat": 4,
  "kernelspec": {
   "name": "python3",
   "display_name": "Python 3.8.5 64-bit ('base': conda)"
  },
  "interpreter": {
   "hash": "8c1eae21719a0790335dcb83aad72b63b602cfe5cdb2bda0f60bc11d4f154e4b"
  }
 },
 "nbformat": 4,
 "nbformat_minor": 2,
 "cells": [
  {
   "source": [
    "# 폐병 환자 수술(Thoraric Surgery)"
   ],
   "cell_type": "markdown",
   "metadata": {}
  },
  {
   "cell_type": "code",
   "execution_count": 1,
   "metadata": {},
   "outputs": [],
   "source": [
    "import numpy as np\n",
    "import pandas as pd"
   ]
  },
  {
   "cell_type": "code",
   "execution_count": 2,
   "metadata": {},
   "outputs": [
    {
     "output_type": "execute_result",
     "data": {
      "text/plain": [
       "    0   1     2     3   4   5   6   7   8   9   10  11  12  13  14  15  16  17\n",
       "0  293   1  3.80  2.80   0   0   0   0   0   0  12   0   0   0   1   0  62   0\n",
       "1    1   2  2.88  2.16   1   0   0   0   1   1  14   0   0   0   1   0  60   0\n",
       "2    8   2  3.19  2.50   1   0   0   0   1   0  11   0   0   1   1   0  66   1\n",
       "3   14   2  3.98  3.06   2   0   0   0   1   1  14   0   0   0   1   0  80   1\n",
       "4   17   2  2.21  1.88   0   0   1   0   0   0  12   0   0   0   1   0  56   0"
      ],
      "text/html": "<div>\n<style scoped>\n    .dataframe tbody tr th:only-of-type {\n        vertical-align: middle;\n    }\n\n    .dataframe tbody tr th {\n        vertical-align: top;\n    }\n\n    .dataframe thead th {\n        text-align: right;\n    }\n</style>\n<table border=\"1\" class=\"dataframe\">\n  <thead>\n    <tr style=\"text-align: right;\">\n      <th></th>\n      <th>0</th>\n      <th>1</th>\n      <th>2</th>\n      <th>3</th>\n      <th>4</th>\n      <th>5</th>\n      <th>6</th>\n      <th>7</th>\n      <th>8</th>\n      <th>9</th>\n      <th>10</th>\n      <th>11</th>\n      <th>12</th>\n      <th>13</th>\n      <th>14</th>\n      <th>15</th>\n      <th>16</th>\n      <th>17</th>\n    </tr>\n  </thead>\n  <tbody>\n    <tr>\n      <th>0</th>\n      <td>293</td>\n      <td>1</td>\n      <td>3.80</td>\n      <td>2.80</td>\n      <td>0</td>\n      <td>0</td>\n      <td>0</td>\n      <td>0</td>\n      <td>0</td>\n      <td>0</td>\n      <td>12</td>\n      <td>0</td>\n      <td>0</td>\n      <td>0</td>\n      <td>1</td>\n      <td>0</td>\n      <td>62</td>\n      <td>0</td>\n    </tr>\n    <tr>\n      <th>1</th>\n      <td>1</td>\n      <td>2</td>\n      <td>2.88</td>\n      <td>2.16</td>\n      <td>1</td>\n      <td>0</td>\n      <td>0</td>\n      <td>0</td>\n      <td>1</td>\n      <td>1</td>\n      <td>14</td>\n      <td>0</td>\n      <td>0</td>\n      <td>0</td>\n      <td>1</td>\n      <td>0</td>\n      <td>60</td>\n      <td>0</td>\n    </tr>\n    <tr>\n      <th>2</th>\n      <td>8</td>\n      <td>2</td>\n      <td>3.19</td>\n      <td>2.50</td>\n      <td>1</td>\n      <td>0</td>\n      <td>0</td>\n      <td>0</td>\n      <td>1</td>\n      <td>0</td>\n      <td>11</td>\n      <td>0</td>\n      <td>0</td>\n      <td>1</td>\n      <td>1</td>\n      <td>0</td>\n      <td>66</td>\n      <td>1</td>\n    </tr>\n    <tr>\n      <th>3</th>\n      <td>14</td>\n      <td>2</td>\n      <td>3.98</td>\n      <td>3.06</td>\n      <td>2</td>\n      <td>0</td>\n      <td>0</td>\n      <td>0</td>\n      <td>1</td>\n      <td>1</td>\n      <td>14</td>\n      <td>0</td>\n      <td>0</td>\n      <td>0</td>\n      <td>1</td>\n      <td>0</td>\n      <td>80</td>\n      <td>1</td>\n    </tr>\n    <tr>\n      <th>4</th>\n      <td>17</td>\n      <td>2</td>\n      <td>2.21</td>\n      <td>1.88</td>\n      <td>0</td>\n      <td>0</td>\n      <td>1</td>\n      <td>0</td>\n      <td>0</td>\n      <td>0</td>\n      <td>12</td>\n      <td>0</td>\n      <td>0</td>\n      <td>0</td>\n      <td>1</td>\n      <td>0</td>\n      <td>56</td>\n      <td>0</td>\n    </tr>\n  </tbody>\n</table>\n</div>"
     },
     "metadata": {},
     "execution_count": 2
    }
   ],
   "source": [
    "df = pd.read_csv('dataset/ThoraricSurgery.csv',header=None)\n",
    "df.head()"
   ]
  },
  {
   "source": [
    "### 데이터 셋 만들기"
   ],
   "cell_type": "markdown",
   "metadata": {}
  },
  {
   "cell_type": "code",
   "execution_count": 3,
   "metadata": {},
   "outputs": [
    {
     "output_type": "execute_result",
     "data": {
      "text/plain": [
       "((352, 17), (118, 17), (352,), (118,))"
      ]
     },
     "metadata": {},
     "execution_count": 3
    }
   ],
   "source": [
    "from sklearn.model_selection import train_test_split\n",
    "X_train, X_test, y_train, y_test = train_test_split(\n",
    "    df.iloc[:,:-1].values, df.iloc[:,-1].values,\n",
    "    stratify=df.iloc[:,-1].values, random_state=2021\n",
    ")\n",
    "X_train.shape, X_test.shape, y_train.shape, y_test.shape"
   ]
  },
  {
   "source": [
    "### 모델 정의"
   ],
   "cell_type": "markdown",
   "metadata": {}
  },
  {
   "cell_type": "code",
   "execution_count": 4,
   "metadata": {},
   "outputs": [],
   "source": [
    "import tensorflow as tf\n",
    "seed = 2021\n",
    "np.random.seed(seed)\n",
    "tf.random.set_seed(seed)"
   ]
  },
  {
   "cell_type": "code",
   "execution_count": 5,
   "metadata": {},
   "outputs": [],
   "source": [
    "from tensorflow.keras.models import Sequential\n",
    "from tensorflow.keras.layers import Dense"
   ]
  },
  {
   "cell_type": "code",
   "execution_count": 7,
   "metadata": {},
   "outputs": [
    {
     "output_type": "stream",
     "name": "stdout",
     "text": [
      "Model: \"sequential_1\"\n_________________________________________________________________\nLayer (type)                 Output Shape              Param #   \n=================================================================\ndense_2 (Dense)              (None, 30)                540       \n_________________________________________________________________\ndense_3 (Dense)              (None, 1)                 31        \n=================================================================\nTotal params: 571\nTrainable params: 571\nNon-trainable params: 0\n_________________________________________________________________\n"
     ]
    }
   ],
   "source": [
    "model = Sequential()\n",
    "model.add(Dense(30, input_shape=(17,), activation='relu'))\n",
    "model.add(Dense(1, activation='sigmoid'))\n",
    "model.summary()"
   ]
  },
  {
   "source": [
    "### 모델 컴파일 - 실행환경 설정"
   ],
   "cell_type": "markdown",
   "metadata": {}
  },
  {
   "cell_type": "code",
   "execution_count": 8,
   "metadata": {},
   "outputs": [],
   "source": [
    "model.compile(\n",
    "    loss= 'binary_crossentropy', \n",
    "    optimizer= 'adam',\n",
    "    metrics=['accuracy']\n",
    ")"
   ]
  },
  {
   "source": [
    "### 모델 학습"
   ],
   "cell_type": "markdown",
   "metadata": {}
  },
  {
   "cell_type": "code",
   "execution_count": 10,
   "metadata": {},
   "outputs": [
    {
     "output_type": "stream",
     "name": "stdout",
     "text": [
      "Epoch 1/30\n",
      "10/10 [==============================] - 0s 15ms/step - loss: 28.4668 - accuracy: 0.1352 - val_loss: 17.5959 - val_accuracy: 0.1972\n",
      "Epoch 2/30\n",
      "10/10 [==============================] - 0s 2ms/step - loss: 13.8712 - accuracy: 0.1423 - val_loss: 4.9220 - val_accuracy: 0.3803\n",
      "Epoch 3/30\n",
      "10/10 [==============================] - 0s 2ms/step - loss: 4.4218 - accuracy: 0.4520 - val_loss: 2.8361 - val_accuracy: 0.5915\n",
      "Epoch 4/30\n",
      "10/10 [==============================] - 0s 2ms/step - loss: 2.7275 - accuracy: 0.6121 - val_loss: 2.7975 - val_accuracy: 0.6620\n",
      "Epoch 5/30\n",
      "10/10 [==============================] - 0s 2ms/step - loss: 2.3796 - accuracy: 0.6548 - val_loss: 2.7593 - val_accuracy: 0.7324\n",
      "Epoch 6/30\n",
      "10/10 [==============================] - 0s 2ms/step - loss: 2.2078 - accuracy: 0.7224 - val_loss: 2.6896 - val_accuracy: 0.7324\n",
      "Epoch 7/30\n",
      "10/10 [==============================] - 0s 2ms/step - loss: 2.0485 - accuracy: 0.7580 - val_loss: 2.5484 - val_accuracy: 0.7324\n",
      "Epoch 8/30\n",
      "10/10 [==============================] - 0s 2ms/step - loss: 1.8968 - accuracy: 0.7758 - val_loss: 2.3143 - val_accuracy: 0.7746\n",
      "Epoch 9/30\n",
      "10/10 [==============================] - 0s 2ms/step - loss: 1.7374 - accuracy: 0.7651 - val_loss: 2.0567 - val_accuracy: 0.7606\n",
      "Epoch 10/30\n",
      "10/10 [==============================] - 0s 2ms/step - loss: 1.5768 - accuracy: 0.7367 - val_loss: 1.8271 - val_accuracy: 0.7465\n",
      "Epoch 11/30\n",
      "10/10 [==============================] - 0s 2ms/step - loss: 1.4284 - accuracy: 0.7331 - val_loss: 1.6577 - val_accuracy: 0.7465\n",
      "Epoch 12/30\n",
      "10/10 [==============================] - 0s 2ms/step - loss: 1.3041 - accuracy: 0.7295 - val_loss: 1.4622 - val_accuracy: 0.7887\n",
      "Epoch 13/30\n",
      "10/10 [==============================] - 0s 3ms/step - loss: 1.1549 - accuracy: 0.7331 - val_loss: 1.2757 - val_accuracy: 0.8028\n",
      "Epoch 14/30\n",
      "10/10 [==============================] - 0s 2ms/step - loss: 0.9769 - accuracy: 0.7616 - val_loss: 1.1248 - val_accuracy: 0.7887\n",
      "Epoch 15/30\n",
      "10/10 [==============================] - 0s 2ms/step - loss: 0.8540 - accuracy: 0.8007 - val_loss: 0.9915 - val_accuracy: 0.7887\n",
      "Epoch 16/30\n",
      "10/10 [==============================] - 0s 3ms/step - loss: 0.7597 - accuracy: 0.7758 - val_loss: 0.8262 - val_accuracy: 0.7606\n",
      "Epoch 17/30\n",
      "10/10 [==============================] - 0s 3ms/step - loss: 0.7184 - accuracy: 0.7509 - val_loss: 0.7742 - val_accuracy: 0.7887\n",
      "Epoch 18/30\n",
      "10/10 [==============================] - 0s 2ms/step - loss: 0.6618 - accuracy: 0.8043 - val_loss: 0.7777 - val_accuracy: 0.8310\n",
      "Epoch 19/30\n",
      "10/10 [==============================] - 0s 2ms/step - loss: 0.6031 - accuracy: 0.7972 - val_loss: 0.6856 - val_accuracy: 0.8028\n",
      "Epoch 20/30\n",
      "10/10 [==============================] - 0s 2ms/step - loss: 0.5552 - accuracy: 0.7936 - val_loss: 0.6595 - val_accuracy: 0.8169\n",
      "Epoch 21/30\n",
      "10/10 [==============================] - 0s 2ms/step - loss: 0.5212 - accuracy: 0.8043 - val_loss: 0.6307 - val_accuracy: 0.8169\n",
      "Epoch 22/30\n",
      "10/10 [==============================] - 0s 3ms/step - loss: 0.5005 - accuracy: 0.8505 - val_loss: 0.6592 - val_accuracy: 0.8169\n",
      "Epoch 23/30\n",
      "10/10 [==============================] - 0s 2ms/step - loss: 0.4685 - accuracy: 0.8327 - val_loss: 0.6109 - val_accuracy: 0.7887\n",
      "Epoch 24/30\n",
      "10/10 [==============================] - 0s 2ms/step - loss: 0.4390 - accuracy: 0.8577 - val_loss: 0.6186 - val_accuracy: 0.8028\n",
      "Epoch 25/30\n",
      "10/10 [==============================] - 0s 2ms/step - loss: 0.4277 - accuracy: 0.8648 - val_loss: 0.6232 - val_accuracy: 0.8028\n",
      "Epoch 26/30\n",
      "10/10 [==============================] - 0s 2ms/step - loss: 0.4209 - accuracy: 0.8648 - val_loss: 0.6198 - val_accuracy: 0.8028\n",
      "Epoch 27/30\n",
      "10/10 [==============================] - 0s 2ms/step - loss: 0.4083 - accuracy: 0.8648 - val_loss: 0.6217 - val_accuracy: 0.8028\n",
      "Epoch 28/30\n",
      "10/10 [==============================] - 0s 2ms/step - loss: 0.4003 - accuracy: 0.8683 - val_loss: 0.6394 - val_accuracy: 0.8028\n",
      "Epoch 29/30\n",
      "10/10 [==============================] - 0s 2ms/step - loss: 0.4045 - accuracy: 0.8648 - val_loss: 0.6309 - val_accuracy: 0.8028\n",
      "Epoch 30/30\n",
      "10/10 [==============================] - 0s 2ms/step - loss: 0.3924 - accuracy: 0.8683 - val_loss: 0.6534 - val_accuracy: 0.8028\n"
     ]
    },
    {
     "output_type": "execute_result",
     "data": {
      "text/plain": [
       "<tensorflow.python.keras.callbacks.History at 0x1acd7fd4370>"
      ]
     },
     "metadata": {},
     "execution_count": 10
    }
   ],
   "source": [
    "model.fit(\n",
    "    X_train, y_train,\n",
    "    validation_split=0.2,\n",
    "    epochs=30,\n",
    "    batch_size=30\n",
    ")"
   ]
  },
  {
   "source": [
    "### 정확도 평가"
   ],
   "cell_type": "markdown",
   "metadata": {}
  },
  {
   "cell_type": "code",
   "execution_count": 11,
   "metadata": {},
   "outputs": [
    {
     "output_type": "stream",
     "name": "stdout",
     "text": [
      "4/4 [==============================] - 0s 749us/step - loss: 0.4732 - accuracy: 0.8475\n"
     ]
    },
    {
     "output_type": "execute_result",
     "data": {
      "text/plain": [
       "[0.4731713831424713, 0.8474576473236084]"
      ]
     },
     "metadata": {},
     "execution_count": 11
    }
   ],
   "source": [
    "model.evaluate(X_test, y_test)"
   ]
  },
  {
   "source": [
    "### Machine Learning - Logistic Regression"
   ],
   "cell_type": "markdown",
   "metadata": {}
  },
  {
   "cell_type": "code",
   "execution_count": 12,
   "metadata": {},
   "outputs": [],
   "source": [
    "from sklearn.preprocessing import MinMaxScaler\n",
    "scaler = MinMaxScaler()\n",
    "X_scaled = scaler.fit_transform(df.iloc[:,:-1].values)"
   ]
  },
  {
   "cell_type": "code",
   "execution_count": 14,
   "metadata": {},
   "outputs": [],
   "source": [
    "X_train, X_test, y_train, y_test = train_test_split(\n",
    "    X_scaled, df.iloc[:,-1].values,\n",
    "    stratify=df.iloc[:,-1].values, random_state=2021\n",
    ")"
   ]
  },
  {
   "cell_type": "code",
   "execution_count": 15,
   "metadata": {},
   "outputs": [],
   "source": [
    "from sklearn.linear_model import LogisticRegression\n",
    "from sklearn.metrics import accuracy_score"
   ]
  },
  {
   "cell_type": "code",
   "execution_count": 16,
   "metadata": {},
   "outputs": [
    {
     "output_type": "execute_result",
     "data": {
      "text/plain": [
       "0.8389830508474576"
      ]
     },
     "metadata": {},
     "execution_count": 16
    }
   ],
   "source": [
    "lr = LogisticRegression()\n",
    "lr.fit(X_train, y_train)\n",
    "pred = lr.predict(X_test)\n",
    "accuracy_score(y_test, pred)"
   ]
  },
  {
   "source": [
    "### Scale 된 데이터로 딥러닝을 수행하면?"
   ],
   "cell_type": "markdown",
   "metadata": {}
  },
  {
   "cell_type": "code",
   "execution_count": 17,
   "metadata": {},
   "outputs": [
    {
     "output_type": "stream",
     "name": "stdout",
     "text": [
      "Model: \"sequential_2\"\n_________________________________________________________________\nLayer (type)                 Output Shape              Param #   \n=================================================================\ndense_4 (Dense)              (None, 30)                540       \n_________________________________________________________________\ndense_5 (Dense)              (None, 1)                 31        \n=================================================================\nTotal params: 571\nTrainable params: 571\nNon-trainable params: 0\n_________________________________________________________________\n"
     ]
    }
   ],
   "source": [
    "model2 = Sequential()\n",
    "model2.add(Dense(30, input_shape=(17,), activation='relu'))\n",
    "model2.add(Dense(1, activation='sigmoid'))\n",
    "model2.summary()"
   ]
  },
  {
   "cell_type": "code",
   "execution_count": 18,
   "metadata": {},
   "outputs": [],
   "source": [
    "model2.compile(\n",
    "    loss='binary_crossentropy', optimizer='adam', metrics=['accuracy'])"
   ]
  },
  {
   "cell_type": "code",
   "execution_count": 19,
   "metadata": {},
   "outputs": [
    {
     "output_type": "stream",
     "name": "stdout",
     "text": [
      "Epoch 1/30\n",
      "10/10 [==============================] - 0s 12ms/step - loss: 0.7661 - accuracy: 0.1744 - val_loss: 0.7235 - val_accuracy: 0.2676\n",
      "Epoch 2/30\n",
      "10/10 [==============================] - 0s 2ms/step - loss: 0.7096 - accuracy: 0.3950 - val_loss: 0.6802 - val_accuracy: 0.6761\n",
      "Epoch 3/30\n",
      "10/10 [==============================] - 0s 2ms/step - loss: 0.6597 - accuracy: 0.6690 - val_loss: 0.6429 - val_accuracy: 0.7746\n",
      "Epoch 4/30\n",
      "10/10 [==============================] - 0s 2ms/step - loss: 0.6146 - accuracy: 0.8149 - val_loss: 0.6097 - val_accuracy: 0.8028\n",
      "Epoch 5/30\n",
      "10/10 [==============================] - 0s 2ms/step - loss: 0.5730 - accuracy: 0.8612 - val_loss: 0.5824 - val_accuracy: 0.8028\n",
      "Epoch 6/30\n",
      "10/10 [==============================] - 0s 2ms/step - loss: 0.5379 - accuracy: 0.8648 - val_loss: 0.5602 - val_accuracy: 0.8028\n",
      "Epoch 7/30\n",
      "10/10 [==============================] - 0s 2ms/step - loss: 0.5054 - accuracy: 0.8648 - val_loss: 0.5450 - val_accuracy: 0.8028\n",
      "Epoch 8/30\n",
      "10/10 [==============================] - 0s 2ms/step - loss: 0.4805 - accuracy: 0.8648 - val_loss: 0.5351 - val_accuracy: 0.8028\n",
      "Epoch 9/30\n",
      "10/10 [==============================] - 0s 2ms/step - loss: 0.4622 - accuracy: 0.8648 - val_loss: 0.5297 - val_accuracy: 0.8028\n",
      "Epoch 10/30\n",
      "10/10 [==============================] - 0s 2ms/step - loss: 0.4494 - accuracy: 0.8648 - val_loss: 0.5276 - val_accuracy: 0.8028\n",
      "Epoch 11/30\n",
      "10/10 [==============================] - 0s 2ms/step - loss: 0.4385 - accuracy: 0.8648 - val_loss: 0.5278 - val_accuracy: 0.8028\n",
      "Epoch 12/30\n",
      "10/10 [==============================] - 0s 2ms/step - loss: 0.4321 - accuracy: 0.8648 - val_loss: 0.5290 - val_accuracy: 0.8028\n",
      "Epoch 13/30\n",
      "10/10 [==============================] - 0s 2ms/step - loss: 0.4274 - accuracy: 0.8648 - val_loss: 0.5275 - val_accuracy: 0.8028\n",
      "Epoch 14/30\n",
      "10/10 [==============================] - 0s 2ms/step - loss: 0.4243 - accuracy: 0.8648 - val_loss: 0.5284 - val_accuracy: 0.8028\n",
      "Epoch 15/30\n",
      "10/10 [==============================] - 0s 2ms/step - loss: 0.4213 - accuracy: 0.8648 - val_loss: 0.5282 - val_accuracy: 0.8028\n",
      "Epoch 16/30\n",
      "10/10 [==============================] - 0s 2ms/step - loss: 0.4183 - accuracy: 0.8648 - val_loss: 0.5272 - val_accuracy: 0.8028\n",
      "Epoch 17/30\n",
      "10/10 [==============================] - 0s 2ms/step - loss: 0.4165 - accuracy: 0.8648 - val_loss: 0.5247 - val_accuracy: 0.8028\n",
      "Epoch 18/30\n",
      "10/10 [==============================] - 0s 2ms/step - loss: 0.4138 - accuracy: 0.8648 - val_loss: 0.5235 - val_accuracy: 0.8028\n",
      "Epoch 19/30\n",
      "10/10 [==============================] - 0s 2ms/step - loss: 0.4111 - accuracy: 0.8648 - val_loss: 0.5229 - val_accuracy: 0.8028\n",
      "Epoch 20/30\n",
      "10/10 [==============================] - 0s 2ms/step - loss: 0.4092 - accuracy: 0.8648 - val_loss: 0.5222 - val_accuracy: 0.8028\n",
      "Epoch 21/30\n",
      "10/10 [==============================] - 0s 3ms/step - loss: 0.4072 - accuracy: 0.8648 - val_loss: 0.5199 - val_accuracy: 0.8028\n",
      "Epoch 22/30\n",
      "10/10 [==============================] - 0s 2ms/step - loss: 0.4052 - accuracy: 0.8648 - val_loss: 0.5192 - val_accuracy: 0.8028\n",
      "Epoch 23/30\n",
      "10/10 [==============================] - 0s 2ms/step - loss: 0.4034 - accuracy: 0.8648 - val_loss: 0.5163 - val_accuracy: 0.8028\n",
      "Epoch 24/30\n",
      "10/10 [==============================] - 0s 2ms/step - loss: 0.4010 - accuracy: 0.8648 - val_loss: 0.5129 - val_accuracy: 0.8028\n",
      "Epoch 25/30\n",
      "10/10 [==============================] - 0s 2ms/step - loss: 0.3990 - accuracy: 0.8648 - val_loss: 0.5110 - val_accuracy: 0.8028\n",
      "Epoch 26/30\n",
      "10/10 [==============================] - 0s 2ms/step - loss: 0.3972 - accuracy: 0.8648 - val_loss: 0.5103 - val_accuracy: 0.8028\n",
      "Epoch 27/30\n",
      "10/10 [==============================] - 0s 2ms/step - loss: 0.3954 - accuracy: 0.8648 - val_loss: 0.5092 - val_accuracy: 0.8028\n",
      "Epoch 28/30\n",
      "10/10 [==============================] - 0s 2ms/step - loss: 0.3937 - accuracy: 0.8648 - val_loss: 0.5053 - val_accuracy: 0.8028\n",
      "Epoch 29/30\n",
      "10/10 [==============================] - 0s 2ms/step - loss: 0.3919 - accuracy: 0.8648 - val_loss: 0.5040 - val_accuracy: 0.8028\n",
      "Epoch 30/30\n",
      "10/10 [==============================] - 0s 2ms/step - loss: 0.3901 - accuracy: 0.8648 - val_loss: 0.5022 - val_accuracy: 0.8028\n"
     ]
    },
    {
     "output_type": "execute_result",
     "data": {
      "text/plain": [
       "<tensorflow.python.keras.callbacks.History at 0x1acd76950a0>"
      ]
     },
     "metadata": {},
     "execution_count": 19
    }
   ],
   "source": [
    "model2.fit(\n",
    "    X_train, y_train, validation_split=0.2,\n",
    "    epochs=30, batch_size=30\n",
    ")"
   ]
  },
  {
   "cell_type": "code",
   "execution_count": 20,
   "metadata": {},
   "outputs": [
    {
     "output_type": "stream",
     "name": "stdout",
     "text": [
      "4/4 [==============================] - 0s 696us/step - loss: 0.4351 - accuracy: 0.8475\n"
     ]
    },
    {
     "output_type": "execute_result",
     "data": {
      "text/plain": [
       "[0.435111939907074, 0.8474576473236084]"
      ]
     },
     "metadata": {},
     "execution_count": 20
    }
   ],
   "source": [
    "model2.evaluate(X_test, y_test)"
   ]
  }
 ]
}