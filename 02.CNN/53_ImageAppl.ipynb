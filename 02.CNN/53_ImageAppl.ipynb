{
 "cells": [
  {
   "cell_type": "markdown",
   "metadata": {},
   "source": [
    "# Keras Application 응용"
   ]
  },
  {
   "cell_type": "code",
   "execution_count": 1,
   "metadata": {},
   "outputs": [
    {
     "data": {
      "text/plain": [
       "['animals\\\\bear.jpg',\n",
       " 'animals\\\\crocodile.jpg',\n",
       " 'animals\\\\dolphin.jpg',\n",
       " 'animals\\\\eagle.jpg',\n",
       " 'animals\\\\elephant.jpg',\n",
       " 'animals\\\\hawk.jpg',\n",
       " 'animals\\\\lion.jpg',\n",
       " 'animals\\\\penguin.jpg',\n",
       " 'animals\\\\shark.jpg',\n",
       " 'animals\\\\sparrow.jpg']"
      ]
     },
     "execution_count": 1,
     "metadata": {},
     "output_type": "execute_result"
    }
   ],
   "source": [
    "from glob import glob\r\n",
    "glob('animals/*')"
   ]
  },
  {
   "cell_type": "code",
   "execution_count": 2,
   "metadata": {},
   "outputs": [
    {
     "name": "stdout",
     "output_type": "stream",
     "text": [
      "['bear', 'crocodile', 'dolphin', 'eagle', 'elephant', 'hawk', 'lion', 'penguin', 'shark', 'sparrow']\n"
     ]
    }
   ],
   "source": [
    "name_list = []\r\n",
    "for file in glob('animals/*'):\r\n",
    "    name = file.split('\\\\')[1]\r\n",
    "    name = name.split('.')[0]\r\n",
    "    name_list.append(name)\r\n",
    "print(name_list)"
   ]
  },
  {
   "cell_type": "markdown",
   "metadata": {},
   "source": [
    "## VGG16 "
   ]
  },
  {
   "cell_type": "code",
   "execution_count": 3,
   "metadata": {},
   "outputs": [],
   "source": [
    "from tensorflow.keras.applications.vgg16 import VGG16, decode_predictions \r\n",
    "import numpy as np\r\n",
    "from PIL import Image"
   ]
  },
  {
   "cell_type": "code",
   "execution_count": 4,
   "metadata": {},
   "outputs": [
    {
     "name": "stdout",
     "output_type": "stream",
     "text": [
      "['brown_bear', 'African_crocodile', 'stingray', 'kite', 'African_elephant', 'chain_mail', 'lion', 'king_penguin', 'tiger_shark', 'junco']\n"
     ]
    }
   ],
   "source": [
    "vgg16 = VGG16()\r\n",
    "vgg16_list = []\r\n",
    "for file in glob('animals/*'):\r\n",
    "    img = np.array(Image.open(file).resize((224,224)))\r\n",
    "    yhat = vgg16.predict(img.reshape(-1, 224, 224, 3))\r\n",
    "    label = decode_predictions(yhat)\r\n",
    "    vgg16_list.append(label[0][0][1])\r\n",
    "print(vgg16_list)"
   ]
  },
  {
   "cell_type": "markdown",
   "metadata": {},
   "source": [
    "## VGG19"
   ]
  },
  {
   "cell_type": "code",
   "execution_count": 6,
   "metadata": {},
   "outputs": [],
   "source": [
    "from tensorflow.keras.applications.vgg19 import VGG19, decode_predictions\r\n",
    "import cv2\r\n",
    "vgg19 = VGG19()"
   ]
  },
  {
   "cell_type": "code",
   "execution_count": 7,
   "metadata": {},
   "outputs": [
    {
     "name": "stdout",
     "output_type": "stream",
     "text": [
      "['wombat', 'African_crocodile', 'hammerhead', 'white_stork', 'African_elephant', 'letter_opener', 'lion', 'king_penguin', 'hammerhead', 'junco']\n"
     ]
    }
   ],
   "source": [
    "vgg19_list = []\r\n",
    "for file in glob('animals/*'):\r\n",
    "    img = cv2.imread(file)\r\n",
    "    img = cv2.resize(img, (224,224))\r\n",
    "    img = cv2.cvtColor(img, cv2.COLOR_BGR2RGB)\r\n",
    "\r\n",
    "    yhat = vgg19.predict(img.reshape(-1, 224, 224, 3))\r\n",
    "    label = decode_predictions(yhat)\r\n",
    "    vgg19_list.append(label[0][0][1])\r\n",
    "print(vgg19_list)"
   ]
  },
  {
   "cell_type": "markdown",
   "metadata": {},
   "source": [
    "# ResNet 50"
   ]
  },
  {
   "cell_type": "code",
   "execution_count": 8,
   "metadata": {},
   "outputs": [],
   "source": [
    "from tensorflow.keras.applications.resnet50 import ResNet50, decode_predictions\r\n",
    "resnet50 = ResNet50()"
   ]
  },
  {
   "cell_type": "code",
   "execution_count": 9,
   "metadata": {},
   "outputs": [
    {
     "name": "stdout",
     "output_type": "stream",
     "text": [
      "['brown_bear', 'American_alligator', 'snorkel', 'white_stork', 'African_elephant', 'kite', 'lion', 'king_penguin', 'tiger_shark', 'indigo_bunting']\n"
     ]
    }
   ],
   "source": [
    "resnet50_list = []\r\n",
    "for file in glob('animals/*'):\r\n",
    "    img = np.array(Image.open(file).resize((224,224)))\r\n",
    "    yhat = resnet50.predict(img.reshape(-1, 224, 224, 3))\r\n",
    "    label = decode_predictions(yhat)\r\n",
    "    resnet50_list.append(label[0][0][1])\r\n",
    "print(resnet50_list)"
   ]
  },
  {
   "cell_type": "markdown",
   "metadata": {},
   "source": [
    "# ResNet 101"
   ]
  },
  {
   "cell_type": "code",
   "execution_count": 10,
   "metadata": {},
   "outputs": [],
   "source": [
    "from tensorflow.keras.applications.resnet import ResNet101, decode_predictions\r\n",
    "resnet101 = ResNet101()"
   ]
  },
  {
   "cell_type": "code",
   "execution_count": 11,
   "metadata": {},
   "outputs": [
    {
     "name": "stdout",
     "output_type": "stream",
     "text": [
      "['wombat', 'American_alligator', 'king_penguin', 'bald_eagle', 'African_elephant', 'kite', 'tiger', 'king_penguin', 'great_white_shark', 'jay']\n"
     ]
    }
   ],
   "source": [
    "resnet101_list = []\r\n",
    "for file in glob('animals/*'):\r\n",
    "    img = np.array(Image.open(file).resize((224,224)))\r\n",
    "    yhat = resnet101.predict(img.reshape(-1, 224, 224, 3))\r\n",
    "    label = decode_predictions(yhat)\r\n",
    "    resnet101_list.append(label[0][0][1])\r\n",
    "print(resnet101_list)"
   ]
  },
  {
   "cell_type": "markdown",
   "metadata": {},
   "source": [
    "## 데이터 프레임으로 합치기"
   ]
  },
  {
   "cell_type": "code",
   "execution_count": 12,
   "metadata": {},
   "outputs": [
    {
     "data": {
      "text/html": [
       "<div>\n",
       "<style scoped>\n",
       "    .dataframe tbody tr th:only-of-type {\n",
       "        vertical-align: middle;\n",
       "    }\n",
       "\n",
       "    .dataframe tbody tr th {\n",
       "        vertical-align: top;\n",
       "    }\n",
       "\n",
       "    .dataframe thead th {\n",
       "        text-align: right;\n",
       "    }\n",
       "</style>\n",
       "<table border=\"1\" class=\"dataframe\">\n",
       "  <thead>\n",
       "    <tr style=\"text-align: right;\">\n",
       "      <th></th>\n",
       "      <th>Original</th>\n",
       "      <th>VGG16</th>\n",
       "      <th>VGG19</th>\n",
       "      <th>ResNet50</th>\n",
       "      <th>ResNet101</th>\n",
       "    </tr>\n",
       "  </thead>\n",
       "  <tbody>\n",
       "    <tr>\n",
       "      <th>0</th>\n",
       "      <td>bear</td>\n",
       "      <td>brown_bear</td>\n",
       "      <td>wombat</td>\n",
       "      <td>brown_bear</td>\n",
       "      <td>wombat</td>\n",
       "    </tr>\n",
       "    <tr>\n",
       "      <th>1</th>\n",
       "      <td>crocodile</td>\n",
       "      <td>African_crocodile</td>\n",
       "      <td>African_crocodile</td>\n",
       "      <td>American_alligator</td>\n",
       "      <td>American_alligator</td>\n",
       "    </tr>\n",
       "    <tr>\n",
       "      <th>2</th>\n",
       "      <td>dolphin</td>\n",
       "      <td>stingray</td>\n",
       "      <td>hammerhead</td>\n",
       "      <td>snorkel</td>\n",
       "      <td>king_penguin</td>\n",
       "    </tr>\n",
       "    <tr>\n",
       "      <th>3</th>\n",
       "      <td>eagle</td>\n",
       "      <td>kite</td>\n",
       "      <td>white_stork</td>\n",
       "      <td>white_stork</td>\n",
       "      <td>bald_eagle</td>\n",
       "    </tr>\n",
       "    <tr>\n",
       "      <th>4</th>\n",
       "      <td>elephant</td>\n",
       "      <td>African_elephant</td>\n",
       "      <td>African_elephant</td>\n",
       "      <td>African_elephant</td>\n",
       "      <td>African_elephant</td>\n",
       "    </tr>\n",
       "    <tr>\n",
       "      <th>5</th>\n",
       "      <td>hawk</td>\n",
       "      <td>chain_mail</td>\n",
       "      <td>letter_opener</td>\n",
       "      <td>kite</td>\n",
       "      <td>kite</td>\n",
       "    </tr>\n",
       "    <tr>\n",
       "      <th>6</th>\n",
       "      <td>lion</td>\n",
       "      <td>lion</td>\n",
       "      <td>lion</td>\n",
       "      <td>lion</td>\n",
       "      <td>tiger</td>\n",
       "    </tr>\n",
       "    <tr>\n",
       "      <th>7</th>\n",
       "      <td>penguin</td>\n",
       "      <td>king_penguin</td>\n",
       "      <td>king_penguin</td>\n",
       "      <td>king_penguin</td>\n",
       "      <td>king_penguin</td>\n",
       "    </tr>\n",
       "    <tr>\n",
       "      <th>8</th>\n",
       "      <td>shark</td>\n",
       "      <td>tiger_shark</td>\n",
       "      <td>hammerhead</td>\n",
       "      <td>tiger_shark</td>\n",
       "      <td>great_white_shark</td>\n",
       "    </tr>\n",
       "    <tr>\n",
       "      <th>9</th>\n",
       "      <td>sparrow</td>\n",
       "      <td>junco</td>\n",
       "      <td>junco</td>\n",
       "      <td>indigo_bunting</td>\n",
       "      <td>jay</td>\n",
       "    </tr>\n",
       "  </tbody>\n",
       "</table>\n",
       "</div>"
      ],
      "text/plain": [
       "    Original              VGG16              VGG19            ResNet50  \\\n",
       "0       bear         brown_bear             wombat          brown_bear   \n",
       "1  crocodile  African_crocodile  African_crocodile  American_alligator   \n",
       "2    dolphin           stingray         hammerhead             snorkel   \n",
       "3      eagle               kite        white_stork         white_stork   \n",
       "4   elephant   African_elephant   African_elephant    African_elephant   \n",
       "5       hawk         chain_mail      letter_opener                kite   \n",
       "6       lion               lion               lion                lion   \n",
       "7    penguin       king_penguin       king_penguin        king_penguin   \n",
       "8      shark        tiger_shark         hammerhead         tiger_shark   \n",
       "9    sparrow              junco              junco      indigo_bunting   \n",
       "\n",
       "            ResNet101  \n",
       "0              wombat  \n",
       "1  American_alligator  \n",
       "2        king_penguin  \n",
       "3          bald_eagle  \n",
       "4    African_elephant  \n",
       "5                kite  \n",
       "6               tiger  \n",
       "7        king_penguin  \n",
       "8   great_white_shark  \n",
       "9                 jay  "
      ]
     },
     "execution_count": 12,
     "metadata": {},
     "output_type": "execute_result"
    }
   ],
   "source": [
    "import pandas as pd\r\n",
    "df = pd.DataFrame({\r\n",
    "    'Original':name_list, 'VGG16':vgg16_list, 'VGG19':vgg19_list,\r\n",
    "    'ResNet50':resnet50_list, 'ResNet101':resnet101_list\r\n",
    "})\r\n",
    "df"
   ]
  },
  {
   "cell_type": "code",
   "execution_count": null,
   "metadata": {},
   "outputs": [],
   "source": [
    "\r\n"
   ]
  }
 ],
 "metadata": {
  "interpreter": {
   "hash": "8c1eae21719a0790335dcb83aad72b63b602cfe5cdb2bda0f60bc11d4f154e4b"
  },
  "kernelspec": {
   "display_name": "Python 3.8.5 64-bit ('base': conda)",
   "name": "python3"
  },
  "language_info": {
   "codemirror_mode": {
    "name": "ipython",
    "version": 3
   },
   "file_extension": ".py",
   "mimetype": "text/x-python",
   "name": "python",
   "nbconvert_exporter": "python",
   "pygments_lexer": "ipython3",
   "version": "3.8.5"
  },
  "orig_nbformat": 4
 },
 "nbformat": 4,
 "nbformat_minor": 2
}