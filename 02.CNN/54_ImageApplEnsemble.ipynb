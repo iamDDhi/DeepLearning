{
 "cells": [
  {
   "cell_type": "markdown",
   "metadata": {},
   "source": [
    "# Keras Application 응용\r\n",
    "- 4가지 모델의 결과를 종합하여 결과 도출"
   ]
  },
  {
   "cell_type": "code",
   "execution_count": 2,
   "metadata": {},
   "outputs": [
    {
     "data": {
      "text/plain": [
       "['animals\\\\bear.jpg',\n",
       " 'animals\\\\crocodile.jpg',\n",
       " 'animals\\\\dolphin.jpg',\n",
       " 'animals\\\\eagle.jpg',\n",
       " 'animals\\\\elephant.jpg',\n",
       " 'animals\\\\hawk.jpg',\n",
       " 'animals\\\\lion.jpg',\n",
       " 'animals\\\\penguin.jpg',\n",
       " 'animals\\\\shark.jpg',\n",
       " 'animals\\\\sparrow.jpg']"
      ]
     },
     "execution_count": 2,
     "metadata": {},
     "output_type": "execute_result"
    }
   ],
   "source": [
    "from glob import glob\r\n",
    "glob('animals/*')"
   ]
  },
  {
   "cell_type": "code",
   "execution_count": 3,
   "metadata": {},
   "outputs": [
    {
     "name": "stdout",
     "output_type": "stream",
     "text": [
      "['bear', 'crocodile', 'dolphin', 'eagle', 'elephant', 'hawk', 'lion', 'penguin', 'shark', 'sparrow']\n"
     ]
    }
   ],
   "source": [
    "name_list = []\r\n",
    "for file in glob('animals/*'):\r\n",
    "    name = file.split('\\\\')[1]\r\n",
    "    name = name.split('.')[0]\r\n",
    "    name_list.append(name)\r\n",
    "print(name_list)"
   ]
  },
  {
   "cell_type": "markdown",
   "metadata": {},
   "source": [
    "## All models and ensemble"
   ]
  },
  {
   "cell_type": "code",
   "execution_count": 4,
   "metadata": {},
   "outputs": [],
   "source": [
    "from tensorflow.keras.applications.vgg16 import VGG16, decode_predictions\r\n",
    "from tensorflow.keras.applications.vgg19 import VGG19\r\n",
    "from tensorflow.keras.applications.resnet50 import ResNet50\r\n",
    "from tensorflow.keras.applications.resnet import ResNet101\r\n",
    "\r\n",
    "import numpy as np \r\n",
    "from PIL import Image"
   ]
  },
  {
   "cell_type": "code",
   "execution_count": 5,
   "metadata": {},
   "outputs": [],
   "source": [
    "vgg16 = VGG16()\r\n",
    "vgg19 = VGG19()\r\n",
    "resnet50 = ResNet50()\r\n",
    "resnet101 = ResNet101()"
   ]
  },
  {
   "cell_type": "code",
   "execution_count": 6,
   "metadata": {},
   "outputs": [],
   "source": [
    "vgg16_list, vgg19_list, resnet50_list, resnet101_list = [],[],[],[]\r\n",
    "ensemble = []\r\n",
    "for file in glob('animals/*'):\r\n",
    "    img = np.array(Image.open(file).resize((224,224)))\r\n",
    "    yhat_v16 = vgg16.predict(img.reshape(-1, 224, 224, 3))\r\n",
    "    yhat_v19 = vgg19.predict(img.reshape(-1, 224, 224, 3))\r\n",
    "    yhat_r50 = resnet50.predict(img.reshape(-1, 224, 224, 3))\r\n",
    "    yhat_v100 = resnet101.predict(img.reshape(-1, 224, 224, 3))\r\n",
    "    yhat = (yhat_v16[0]+yhat_v19[0]+yhat_r50[0]+yhat_v100[0])/4.\r\n",
    "\r\n",
    "    vgg16_list.append(decode_predictions(yhat_v16)[0][0][1])\r\n",
    "    vgg19_list.append(decode_predictions(yhat_v19)[0][0][1])\r\n",
    "    resnet50_list.append(decode_predictions(yhat_r50)[0][0][1])\r\n",
    "    resnet101_list.append(decode_predictions(yhat_v100)[0][0][1])\r\n",
    "    ensemble.append(decode_predictions(yhat.reshape(1,-1))[0][0][1])"
   ]
  },
  {
   "cell_type": "markdown",
   "metadata": {},
   "source": [
    "## 데이터 프레임으로 합치기"
   ]
  },
  {
   "cell_type": "code",
   "execution_count": 7,
   "metadata": {},
   "outputs": [
    {
     "data": {
      "text/html": [
       "<div>\n",
       "<style scoped>\n",
       "    .dataframe tbody tr th:only-of-type {\n",
       "        vertical-align: middle;\n",
       "    }\n",
       "\n",
       "    .dataframe tbody tr th {\n",
       "        vertical-align: top;\n",
       "    }\n",
       "\n",
       "    .dataframe thead th {\n",
       "        text-align: right;\n",
       "    }\n",
       "</style>\n",
       "<table border=\"1\" class=\"dataframe\">\n",
       "  <thead>\n",
       "    <tr style=\"text-align: right;\">\n",
       "      <th></th>\n",
       "      <th>Original</th>\n",
       "      <th>VGG16</th>\n",
       "      <th>VGG19</th>\n",
       "      <th>ResNet50</th>\n",
       "      <th>ResNet101</th>\n",
       "      <th>Ensemble</th>\n",
       "    </tr>\n",
       "  </thead>\n",
       "  <tbody>\n",
       "    <tr>\n",
       "      <th>0</th>\n",
       "      <td>bear</td>\n",
       "      <td>ice_bear</td>\n",
       "      <td>ice_bear</td>\n",
       "      <td>ice_bear</td>\n",
       "      <td>ice_bear</td>\n",
       "      <td>ice_bear</td>\n",
       "    </tr>\n",
       "    <tr>\n",
       "      <th>1</th>\n",
       "      <td>crocodile</td>\n",
       "      <td>agama</td>\n",
       "      <td>frilled_lizard</td>\n",
       "      <td>American_alligator</td>\n",
       "      <td>triceratops</td>\n",
       "      <td>agama</td>\n",
       "    </tr>\n",
       "    <tr>\n",
       "      <th>2</th>\n",
       "      <td>dolphin</td>\n",
       "      <td>Weimaraner</td>\n",
       "      <td>hammerhead</td>\n",
       "      <td>Weimaraner</td>\n",
       "      <td>Weimaraner</td>\n",
       "      <td>Weimaraner</td>\n",
       "    </tr>\n",
       "    <tr>\n",
       "      <th>3</th>\n",
       "      <td>eagle</td>\n",
       "      <td>kite</td>\n",
       "      <td>kite</td>\n",
       "      <td>kite</td>\n",
       "      <td>kite</td>\n",
       "      <td>kite</td>\n",
       "    </tr>\n",
       "    <tr>\n",
       "      <th>4</th>\n",
       "      <td>elephant</td>\n",
       "      <td>tusker</td>\n",
       "      <td>tusker</td>\n",
       "      <td>cardigan</td>\n",
       "      <td>cardigan</td>\n",
       "      <td>cardigan</td>\n",
       "    </tr>\n",
       "    <tr>\n",
       "      <th>5</th>\n",
       "      <td>hawk</td>\n",
       "      <td>kite</td>\n",
       "      <td>kite</td>\n",
       "      <td>kite</td>\n",
       "      <td>kite</td>\n",
       "      <td>kite</td>\n",
       "    </tr>\n",
       "    <tr>\n",
       "      <th>6</th>\n",
       "      <td>lion</td>\n",
       "      <td>lion</td>\n",
       "      <td>malamute</td>\n",
       "      <td>Lhasa</td>\n",
       "      <td>miniature_schnauzer</td>\n",
       "      <td>lion</td>\n",
       "    </tr>\n",
       "    <tr>\n",
       "      <th>7</th>\n",
       "      <td>penguin</td>\n",
       "      <td>king_penguin</td>\n",
       "      <td>king_penguin</td>\n",
       "      <td>king_penguin</td>\n",
       "      <td>king_penguin</td>\n",
       "      <td>king_penguin</td>\n",
       "    </tr>\n",
       "    <tr>\n",
       "      <th>8</th>\n",
       "      <td>shark</td>\n",
       "      <td>great_white_shark</td>\n",
       "      <td>great_white_shark</td>\n",
       "      <td>great_white_shark</td>\n",
       "      <td>great_white_shark</td>\n",
       "      <td>great_white_shark</td>\n",
       "    </tr>\n",
       "    <tr>\n",
       "      <th>9</th>\n",
       "      <td>sparrow</td>\n",
       "      <td>jay</td>\n",
       "      <td>jay</td>\n",
       "      <td>jay</td>\n",
       "      <td>jay</td>\n",
       "      <td>jay</td>\n",
       "    </tr>\n",
       "  </tbody>\n",
       "</table>\n",
       "</div>"
      ],
      "text/plain": [
       "    Original              VGG16              VGG19            ResNet50  \\\n",
       "0       bear           ice_bear           ice_bear            ice_bear   \n",
       "1  crocodile              agama     frilled_lizard  American_alligator   \n",
       "2    dolphin         Weimaraner         hammerhead          Weimaraner   \n",
       "3      eagle               kite               kite                kite   \n",
       "4   elephant             tusker             tusker            cardigan   \n",
       "5       hawk               kite               kite                kite   \n",
       "6       lion               lion           malamute               Lhasa   \n",
       "7    penguin       king_penguin       king_penguin        king_penguin   \n",
       "8      shark  great_white_shark  great_white_shark   great_white_shark   \n",
       "9    sparrow                jay                jay                 jay   \n",
       "\n",
       "             ResNet101           Ensemble  \n",
       "0             ice_bear           ice_bear  \n",
       "1          triceratops              agama  \n",
       "2           Weimaraner         Weimaraner  \n",
       "3                 kite               kite  \n",
       "4             cardigan           cardigan  \n",
       "5                 kite               kite  \n",
       "6  miniature_schnauzer               lion  \n",
       "7         king_penguin       king_penguin  \n",
       "8    great_white_shark  great_white_shark  \n",
       "9                  jay                jay  "
      ]
     },
     "execution_count": 7,
     "metadata": {},
     "output_type": "execute_result"
    }
   ],
   "source": [
    "import pandas as pd\r\n",
    "df = pd.DataFrame({\r\n",
    "    'Original':name_list, 'VGG16':vgg16_list, 'VGG19':vgg19_list,\r\n",
    "    'ResNet50':resnet50_list, 'ResNet101':resnet101_list, 'Ensemble':ensemble\r\n",
    "})\r\n",
    "df"
   ]
  },
  {
   "cell_type": "code",
   "execution_count": null,
   "metadata": {},
   "outputs": [],
   "source": []
  }
 ],
 "metadata": {
  "interpreter": {
   "hash": "8c1eae21719a0790335dcb83aad72b63b602cfe5cdb2bda0f60bc11d4f154e4b"
  },
  "kernelspec": {
   "display_name": "Python 3.8.5 64-bit ('base': conda)",
   "name": "python3"
  },
  "language_info": {
   "codemirror_mode": {
    "name": "ipython",
    "version": 3
   },
   "file_extension": ".py",
   "mimetype": "text/x-python",
   "name": "python",
   "nbconvert_exporter": "python",
   "pygments_lexer": "ipython3",
   "version": "3.8.5"
  },
  "orig_nbformat": 4
 },
 "nbformat": 4,
 "nbformat_minor": 2
}