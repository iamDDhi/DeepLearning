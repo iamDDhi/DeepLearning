{
 "cells": [
  {
   "cell_type": "markdown",
   "metadata": {},
   "source": [
    "# 카카오 언어감지"
   ]
  },
  {
   "cell_type": "code",
   "execution_count": 1,
   "metadata": {},
   "outputs": [],
   "source": [
    "import requests\r\n",
    "from urllib.parse import quote"
   ]
  },
  {
   "cell_type": "code",
   "execution_count": 2,
   "metadata": {},
   "outputs": [],
   "source": [
    "with open('kakaoapikey.txt', mode='r') as key_file:\r\n",
    "    kakao_key = key_file.read()"
   ]
  },
  {
   "cell_type": "code",
   "execution_count": 3,
   "metadata": {},
   "outputs": [],
   "source": [
    "\r\n",
    "kr_text = '이 문서는 카카오 번역 API 사용 방법을 설명합니다.'\r\n",
    "en_text = 'This document describes how to use the Kakao translation API.'"
   ]
  },
  {
   "cell_type": "code",
   "execution_count": 4,
   "metadata": {},
   "outputs": [
    {
     "data": {
      "text/plain": [
       "{'language_info': [{'code': 'kr', 'name': 'Korean', 'confidence': 0.50089},\n",
       "  {'code': 'tr', 'name': 'Turkish', 'confidence': 0.09691},\n",
       "  {'code': 'en', 'name': 'English', 'confidence': 0.082}]}"
      ]
     },
     "execution_count": 4,
     "metadata": {},
     "output_type": "execute_result"
    }
   ],
   "source": [
    "\r\n",
    "url = 'https://dapi.kakao.com/v3/translation/language/detect?query='+quote(kr_text)\r\n",
    "result = requests.get(url, \r\n",
    "            headers={\"Authorization\": f\"KakaoAK {kakao_key}\"}).json()\r\n",
    "result"
   ]
  },
  {
   "cell_type": "code",
   "execution_count": 5,
   "metadata": {},
   "outputs": [
    {
     "data": {
      "text/plain": [
       "'kr'"
      ]
     },
     "execution_count": 5,
     "metadata": {},
     "output_type": "execute_result"
    }
   ],
   "source": [
    "result['language_info'][0]['code']"
   ]
  },
  {
   "cell_type": "code",
   "execution_count": 6,
   "metadata": {},
   "outputs": [
    {
     "data": {
      "text/plain": [
       "{'language_info': [{'code': 'en', 'name': 'English', 'confidence': 0.524},\n",
       "  {'code': 'tr', 'name': 'Turkish', 'confidence': 0.15117},\n",
       "  {'code': 'es', 'name': 'Spanish', 'confidence': 0.06808}]}"
      ]
     },
     "execution_count": 6,
     "metadata": {},
     "output_type": "execute_result"
    }
   ],
   "source": [
    "url = 'https://dapi.kakao.com/v3/translation/language/detect?query='+quote(en_text)\r\n",
    "result = requests.get(url, \r\n",
    "            headers={\"Authorization\": f\"KakaoAK {kakao_key}\"}).json()\r\n",
    "result"
   ]
  },
  {
   "cell_type": "markdown",
   "metadata": {},
   "source": [
    "## 언어 감지후 한글로 번역"
   ]
  },
  {
   "cell_type": "code",
   "execution_count": 7,
   "metadata": {},
   "outputs": [],
   "source": [
    "fr_text = \"Mais, mon cher, mon cher, c'est bizarre.\""
   ]
  },
  {
   "cell_type": "code",
   "execution_count": 8,
   "metadata": {},
   "outputs": [],
   "source": [
    "def get_country(text):\r\n",
    "    url = 'https://dapi.kakao.com/v3/translation/language/detect?query='+quote(text)\r\n",
    "    result = requests.get(url, \r\n",
    "                headers={\"Authorization\": f\"KakaoAK {kakao_key}\"}).json()\r\n",
    "    return result['language_info'][0]['code']"
   ]
  },
  {
   "cell_type": "code",
   "execution_count": 9,
   "metadata": {},
   "outputs": [],
   "source": [
    "def generate_url(text, src, dst):\r\n",
    "    trans_url = 'https://dapi.kakao.com/v2/translation/translate'\r\n",
    "    url = f'{trans_url}?src_lang={src}&target_lang={dst}&query={quote(text)}'\r\n",
    "    return url "
   ]
  },
  {
   "cell_type": "code",
   "execution_count": 13,
   "metadata": {},
   "outputs": [],
   "source": [
    "def for2kor(text):\r\n",
    "    country = get_country(text)\r\n",
    "    result = requests.get(generate_url(text, country, 'kr'), \r\n",
    "                headers={\"Authorization\": f\"KakaoAK {kakao_key}\"}).json()\r\n",
    "    tr_text = '\\n'.join([line[0] for line in result['translated_text']])\r\n",
    "    return tr_text"
   ]
  },
  {
   "cell_type": "code",
   "execution_count": 14,
   "metadata": {},
   "outputs": [
    {
     "data": {
      "text/plain": [
       "'이 문서는 카카오 번역 API 사용 방법에 대해 설명합니다.'"
      ]
     },
     "execution_count": 14,
     "metadata": {},
     "output_type": "execute_result"
    }
   ],
   "source": [
    "for2kor(en_text)"
   ]
  },
  {
   "cell_type": "code",
   "execution_count": 15,
   "metadata": {},
   "outputs": [
    {
     "data": {
      "text/plain": [
       "'하지만, 내 사랑, 이상해.'"
      ]
     },
     "execution_count": 15,
     "metadata": {},
     "output_type": "execute_result"
    }
   ],
   "source": [
    "for2kor(fr_text)"
   ]
  },
  {
   "cell_type": "code",
   "execution_count": null,
   "metadata": {},
   "outputs": [],
   "source": []
  }
 ],
 "metadata": {
  "interpreter": {
   "hash": "8c1eae21719a0790335dcb83aad72b63b602cfe5cdb2bda0f60bc11d4f154e4b"
  },
  "kernelspec": {
   "display_name": "Python 3.8.5 64-bit ('base': conda)",
   "name": "python3"
  },
  "language_info": {
   "name": "python",
   "version": ""
  },
  "orig_nbformat": 4
 },
 "nbformat": 4,
 "nbformat_minor": 2
}